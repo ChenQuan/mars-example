{
 "cells": [
  {
   "cell_type": "markdown",
   "metadata": {},
   "source": [
    "# This is the very first example of Mars\n",
    "\n",
    "Mars is a tensor-based unified framework for large-scale data computation and here we demonstrate Mars capability of handling huge matrix.\n",
    "\n",
    "The following codes calculates Pi using [Monte Carlo method](https://en.wikipedia.org/wiki/Monte_Carlo_method), using thread mode and local distributed mode."
   ]
  },
  {
   "cell_type": "code",
   "execution_count": null,
   "metadata": {},
   "outputs": [],
   "source": [
    "# number of points, the bigger the result will be more accurate\n",
    "N = 10 ** 7"
   ]
  },
  {
   "cell_type": "code",
   "execution_count": 1,
   "metadata": {},
   "outputs": [
    {
     "name": "stdout",
     "output_type": "stream",
     "text": [
      "pi: 3.14183\n"
     ]
    }
   ],
   "source": [
    "# Thread mode on single node\n",
    "\n",
    "import mars.tensor as mt\n",
    "\n",
    "data = mt.random.uniform(-1, 1, size=(N, 2))\n",
    "inside = (mt.linalg.norm(data, axis=1) < 1).sum()\n",
    "pi = (4 * inside / N).execute(n_parallel=8)\n",
    "print('pi: %.5f' % pi)\n"
   ]
  },
  {
   "cell_type": "code",
   "execution_count": 2,
   "metadata": {},
   "outputs": [
    {
     "name": "stdout",
     "output_type": "stream",
     "text": [
      "pi: 3.14217\n"
     ]
    }
   ],
   "source": [
    "# Local distributed mode\n",
    "\n",
    "from mars.config import options\n",
    "from mars import tensor as mt\n",
    "from mars.session import new_session\n",
    "from mars.deploy.local.core import LocalDistributedCluster\n",
    "\n",
    "endpoint='0.0.0.0:12345'\n",
    "options.worker.cache_memory_limit = '4G'\n",
    "with LocalDistributedCluster(endpoint) as cluster:\n",
    "    with new_session(endpoint) as session:\n",
    "        N = 10 ** 7\n",
    "        data = mt.random.uniform(-1, 1, size=(N, 2))\n",
    "        inside = (mt.linalg.norm(data, axis=1) < 1).sum()\n",
    "        pi = 4 * inside / N\n",
    "        result = session.run(pi)\n",
    "        print('pi: %.5f' % result)\n"
   ]
  },
  {
   "cell_type": "code",
   "execution_count": null,
   "metadata": {},
   "outputs": [],
   "source": []
  }
 ],
 "metadata": {
  "hide_input": false,
  "kernelspec": {
   "display_name": "Python 3",
   "language": "python",
   "name": "python3"
  },
  "language_info": {
   "codemirror_mode": {
    "name": "ipython",
    "version": 3
   },
   "file_extension": ".py",
   "mimetype": "text/x-python",
   "name": "python",
   "nbconvert_exporter": "python",
   "pygments_lexer": "ipython3",
   "version": "3.7.1"
  }
 },
 "nbformat": 4,
 "nbformat_minor": 2
}
